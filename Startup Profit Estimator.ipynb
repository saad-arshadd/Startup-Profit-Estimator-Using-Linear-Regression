{
 "cells": [
  {
   "cell_type": "code",
   "id": "initial_id",
   "metadata": {
    "collapsed": true,
    "ExecuteTime": {
     "end_time": "2025-03-02T12:29:38.661135Z",
     "start_time": "2025-03-02T12:29:38.569723Z"
    }
   },
   "source": [
    "import numpy as np\n",
    "import pandas as pd\n",
    "from sklearn import svm\n",
    "import matplotlib.pyplot as plt\n",
    "import seaborn as sns; sns.set(font_scale=1.2)\n",
    "%matplotlib inline\n",
    "companies = pd.read_csv('startup_data_extended.csv')\n",
    "companies.head()\n",
    "#data visualization\n",
    "#sns.heatmap(companies_cleaned.corr())\n",
    "companies_cleaned = companies.drop(columns=[\"State\"])\n",
    "# to check after removing\n",
    "# print(companies_cleaned.dtypes)\n",
    "x = companies_cleaned.iloc[:, :-1].values # all rows except 3rd\n",
    "y=companies_cleaned.iloc[:, 3].values # selects the targer column (profit)\n",
    "#print(companies_cleaned.columns[3])  # Lists all column names\n",
    "#print(x)\n",
    "#avoiding dummy variable\n"
   ],
   "outputs": [],
   "execution_count": 69
  },
  {
   "metadata": {
    "ExecuteTime": {
     "end_time": "2025-03-02T12:29:41.155586Z",
     "start_time": "2025-03-02T12:29:41.118345Z"
    }
   },
   "cell_type": "code",
   "source": [
    "from sklearn.model_selection import train_test_split\n",
    "#means x or y ko 20% test karo and 80% for the training the model\n",
    "x_train, x_test,y_train,y_test=train_test_split(x,y,test_size=0.2,random_state=0)\n",
    "\n",
    "\n",
    "from sklearn.linear_model import LinearRegression\n",
    "#y=mx+c waali saari maths iske andar ajayegi regressor ke andar\n",
    "regressor=LinearRegression()\n",
    "#ab train karrega moel ko 80% of the values per\n",
    "regressor.fit(x_train,y_train)\n",
    "#alag alag testing values per y ki preicted values nikalega\n",
    "y_pred=regressor.predict(x_test)\n",
    "\n",
    "#print(y_pred)\n",
    "\n",
    "#calculting the value of cofficient (value of m )by ibrary\n",
    "print(regressor.coef_)\n",
    "\n",
    "#calculting the value of intercept(value of c )by ibrary\n",
    "print(regressor.coef_)\n",
    "\n",
    "\n",
    "#calculating r squared value to check if the predicted values are how much %valid or not ?\n",
    "from sklearn.metrics import r2_score\n",
    "#actual jo 20% data tha test ka (profit) use check karega ke predicted values ke barabr kitna accurate aya hai jo modle ne nikale hein answers\n",
    "r2_score(y_test,y_pred)\n",
    "\n"
   ],
   "id": "eeb099fdba6c0be4",
   "outputs": [
    {
     "name": "stdout",
     "output_type": "stream",
     "text": [
      "[0.52737847 0.8458277  0.10664082]\n",
      "[0.52737847 0.8458277  0.10664082]\n"
     ]
    },
    {
     "data": {
      "text/plain": [
       "0.91173752949641"
      ]
     },
     "execution_count": 70,
     "metadata": {},
     "output_type": "execute_result"
    }
   ],
   "execution_count": 70
  },
  {
   "metadata": {},
   "cell_type": "code",
   "outputs": [],
   "execution_count": null,
   "source": "",
   "id": "65d1006fd0eea0c2"
  },
  {
   "metadata": {
    "ExecuteTime": {
     "end_time": "2025-03-02T12:29:47.192426Z",
     "start_time": "2025-03-02T12:29:47.178194Z"
    }
   },
   "cell_type": "code",
   "source": [
    "#for sample input\n",
    "# #Predict Profit for a New Startup**\n",
    "# ------------------------\n",
    "# Example: [R&D Spend, Administration, Marketing Spend]\n",
    "new_startup = np.array([[165349.2, 12136897.80000, 471784.1]])  # Sample Input\n",
    "predicted_profit = regressor.predict(new_startup)\n",
    "print(\"Predicted Profit for new startup:\", predicted_profit[0])"
   ],
   "id": "68aaf23171fc869b",
   "outputs": [
    {
     "name": "stdout",
     "output_type": "stream",
     "text": [
      "Predicted Profit for new startup: 10351597.595797446\n"
     ]
    }
   ],
   "execution_count": 71
  },
  {
   "metadata": {},
   "cell_type": "code",
   "outputs": [],
   "execution_count": null,
   "source": "",
   "id": "39c0fea21a999650"
  }
 ],
 "metadata": {
  "kernelspec": {
   "display_name": "Python 3",
   "language": "python",
   "name": "python3"
  },
  "language_info": {
   "codemirror_mode": {
    "name": "ipython",
    "version": 2
   },
   "file_extension": ".py",
   "mimetype": "text/x-python",
   "name": "python",
   "nbconvert_exporter": "python",
   "pygments_lexer": "ipython2",
   "version": "2.7.6"
  }
 },
 "nbformat": 4,
 "nbformat_minor": 5
}
